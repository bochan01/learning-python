{
 "cells": [
  {
   "cell_type": "markdown",
   "metadata": {},
   "source": [
    "### Approximation of pi"
   ]
  },
  {
   "cell_type": "code",
   "execution_count": 1,
   "metadata": {},
   "outputs": [],
   "source": [
    "import math\n",
    "from functools import lru_cache\n",
    "@lru_cache(maxsize = None)\n",
    "def factorial(n): return 1 if n < 2 else n * factorial(n - 1)"
   ]
  },
  {
   "cell_type": "code",
   "execution_count": 7,
   "metadata": {},
   "outputs": [
    {
     "name": "stdout",
     "output_type": "stream",
     "text": [
      "3.1415926535897922\n"
     ]
    }
   ],
   "source": [
    "s = 0\n",
    "k = 0\n",
    "while k < 10000:\n",
    "    s += 2 * (2**k * factorial(k)**2) / factorial(2 * k + 1)\n",
    "    k += 1\n",
    "print(s)"
   ]
  },
  {
   "cell_type": "markdown",
   "metadata": {},
   "source": [
    "### Approximation of e"
   ]
  },
  {
   "cell_type": "code",
   "execution_count": 11,
   "metadata": {},
   "outputs": [
    {
     "name": "stdout",
     "output_type": "stream",
     "text": [
      "2.7182818284590455\n"
     ]
    }
   ],
   "source": [
    "e = 0\n",
    "n = 0\n",
    "while n < 100:\n",
    "    e += 1 / factorial(n)\n",
    "    n += 1\n",
    "print(e)"
   ]
  },
  {
   "cell_type": "markdown",
   "metadata": {},
   "source": [
    "### Madhava"
   ]
  },
  {
   "cell_type": "code",
   "execution_count": 20,
   "metadata": {},
   "outputs": [
    {
     "name": "stdout",
     "output_type": "stream",
     "text": [
      "0.0\n",
      "3.141592653589793\n"
     ]
    }
   ],
   "source": [
    "pi = 0\n",
    "b = 0\n",
    "while b < 100:\n",
    "    pi += math.sqrt(12) * ((-3)**(-k)) / ((2 * b) + 1)\n",
    "    b += 1   \n",
    "print(pi)\n",
    "print(math.pi) "
   ]
  },
  {
   "cell_type": "markdown",
   "metadata": {},
   "source": [
    "### Ramanujan"
   ]
  },
  {
   "cell_type": "code",
   "execution_count": null,
   "metadata": {},
   "outputs": [],
   "source": [
    "one_over_pi = 0\n",
    "k = 0\n",
    "while k < 100:\n",
    "    num = factorial(4 * k) * (1103 + 26390 * k)\n",
    "    den = factorial(k)**4 * 396**(4*k)\n",
    "    one_over_pi += (2 * math.sqrt(2) / 26390 )\n",
    "print(pi)\n",
    "# dont run yet idk what this is lol"
   ]
  },
  {
   "cell_type": "markdown",
   "metadata": {},
   "source": [
    "### Continued fractions"
   ]
  },
  {
   "cell_type": "markdown",
   "metadata": {},
   "source": [
    "### ai = 1"
   ]
  },
  {
   "cell_type": "code",
   "execution_count": 24,
   "metadata": {},
   "outputs": [
    {
     "name": "stdout",
     "output_type": "stream",
     "text": [
      "2.414213562373095\n"
     ]
    }
   ],
   "source": [
    "frac = 1\n",
    "i = 0\n",
    "while i < 100:\n",
    "    frac = 2 + (1/frac)\n",
    "    i += 1\n",
    "print(frac)"
   ]
  },
  {
   "cell_type": "code",
   "execution_count": 25,
   "metadata": {},
   "outputs": [
    {
     "data": {
      "text/plain": [
       "1.618033988749895"
      ]
     },
     "execution_count": 25,
     "metadata": {},
     "output_type": "execute_result"
    }
   ],
   "source": [
    "(1+math.sqrt(5))/2"
   ]
  },
  {
   "cell_type": "markdown",
   "metadata": {},
   "source": [
    "### ai = i"
   ]
  },
  {
   "cell_type": "code",
   "execution_count": 26,
   "metadata": {},
   "outputs": [
    {
     "name": "stdout",
     "output_type": "stream",
     "text": [
      "1.4331274267223117\n"
     ]
    }
   ],
   "source": [
    "frac = 1\n",
    "i = n\n",
    "while i > 0:\n",
    "    frac = i + (1/frac)\n",
    "    i -= 1\n",
    "print(frac)"
   ]
  },
  {
   "cell_type": "code",
   "execution_count": 27,
   "metadata": {},
   "outputs": [
    {
     "name": "stdout",
     "output_type": "stream",
     "text": [
      "0.697774657964008\n"
     ]
    }
   ],
   "source": [
    "n = 100\n",
    "frac = n\n",
    "i = n\n",
    "while i >= 0:\n",
    "    frac = i + (1/frac)\n",
    "    i -= 1\n",
    "print(frac)"
   ]
  },
  {
   "cell_type": "code",
   "execution_count": 28,
   "metadata": {},
   "outputs": [
    {
     "name": "stdout",
     "output_type": "stream",
     "text": [
      "1.618033988749895\n"
     ]
    }
   ],
   "source": [
    "root = 1\n",
    "i = 0\n",
    "while i < 100:\n",
    "    root = math.sqrt(1 + root)\n",
    "    i += 1\n",
    "print(root)"
   ]
  },
  {
   "cell_type": "markdown",
   "metadata": {},
   "source": [
    "### a sub 1 = 2"
   ]
  },
  {
   "cell_type": "code",
   "execution_count": null,
   "metadata": {},
   "outputs": [],
   "source": []
  }
 ],
 "metadata": {
  "kernelspec": {
   "display_name": "Python 3",
   "language": "python",
   "name": "python3"
  },
  "language_info": {
   "codemirror_mode": {
    "name": "ipython",
    "version": 3
   },
   "file_extension": ".py",
   "mimetype": "text/x-python",
   "name": "python",
   "nbconvert_exporter": "python",
   "pygments_lexer": "ipython3",
   "version": "3.7.7"
  }
 },
 "nbformat": 4,
 "nbformat_minor": 4
}
