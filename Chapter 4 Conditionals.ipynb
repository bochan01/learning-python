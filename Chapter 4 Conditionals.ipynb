{
 "cells": [
  {
   "cell_type": "markdown",
   "metadata": {},
   "source": [
    "in-class exercise"
   ]
  },
  {
   "cell_type": "code",
   "execution_count": null,
   "metadata": {},
   "outputs": [],
   "source": [
    "#take an input of two integers, a and b\n",
    "\n",
    "a=int(input(\"a? \"))\n",
    "b=int(input(\"b? \"))\n",
    "\n",
    "# then print \"they are equal\",\"a > b\",\"b > a\"\n",
    "if a==b:\n",
    "    print(\"they are equal\")\n",
    "elif a>b:\n",
    "    print(\"a > b\")\n",
    "else:\n",
    "    print(\"b > a\")\n"
   ]
  },
  {
   "cell_type": "code",
   "execution_count": null,
   "metadata": {},
   "outputs": [],
   "source": [
    "#take an input of two integers, a and b\n",
    "\n",
    "a=float(input(\"a? \"))\n",
    "b=float(input(\"b? \"))\n",
    "\n",
    "# if a or b is not an integer, print \"invalid input\". otherwise, continue\n",
    "\n",
    "if int(a) != a or int(b) !=b:\n",
    "    print(\"invalid input\")\n",
    "\n",
    "\n",
    "# then print \"they are equal\",\"a > b\",\"b > a\"\n",
    "if a==b:\n",
    "    print(\"they are equal\")\n",
    "elif a>b:\n",
    "    print(\"a > b\")\n",
    "else:\n",
    "    print(\"b > a\")\n",
    "    \n",
    "    \n",
    "    "
   ]
  },
  {
   "cell_type": "markdown",
   "metadata": {},
   "source": [
    "### Exercises"
   ]
  },
  {
   "cell_type": "markdown",
   "metadata": {},
   "source": [
    "### 1"
   ]
  },
  {
   "cell_type": "code",
   "execution_count": 2,
   "metadata": {},
   "outputs": [
    {
     "name": "stdout",
     "output_type": "stream",
     "text": [
      "foo\n"
     ]
    }
   ],
   "source": [
    "if \"ab\" in \"abcd\":\n",
    "  print(\"foo\")\n",
    "else:\n",
    "  print(\"bar\")"
   ]
  },
  {
   "cell_type": "code",
   "execution_count": 5,
   "metadata": {},
   "outputs": [
    {
     "name": "stdout",
     "output_type": "stream",
     "text": [
      "bar\n"
     ]
    }
   ],
   "source": [
    "booleanflag = True \n",
    "if \"hi\" in \"abcd\":\n",
    "    print(\"foo\")\n",
    "    booleanflag = False \n",
    "    \n",
    "if booleanflag:\n",
    "    print(\"bar\")"
   ]
  },
  {
   "cell_type": "markdown",
   "metadata": {},
   "source": [
    "### 2"
   ]
  },
  {
   "cell_type": "code",
   "execution_count": 5,
   "metadata": {},
   "outputs": [
    {
     "name": "stdout",
     "output_type": "stream",
     "text": [
      "feet: 5\n",
      "Inches: 4\n",
      "You are too tall\n"
     ]
    }
   ],
   "source": [
    "\n",
    "feet = float(input(\"feet: \"))\n",
    "if int(feet) != feet:\n",
    "    Print (\"invalid input\")\n",
    "\n",
    "inches = float(input(\"Inches: \"))\n",
    "if int(inches) != inches:\n",
    "    Print (\"invalid input\")\n",
    "\n",
    "height = feet * 12 + inches\n",
    "\n",
    "if height>=60:\n",
    "    print(\"You are too tall\")\n",
    "elif height <= 45:\n",
    "    print(\"You are too short :(\")\n",
    "else:\n",
    "    print(\"You can ride :)\")"
   ]
  },
  {
   "cell_type": "markdown",
   "metadata": {},
   "source": [
    "### 3"
   ]
  },
  {
   "cell_type": "code",
   "execution_count": 2,
   "metadata": {},
   "outputs": [
    {
     "name": "stdout",
     "output_type": "stream",
     "text": [
      "enter a number: -7\n",
      "a = -7.0 is negative\n"
     ]
    }
   ],
   "source": [
    "a = float(input(\"enter a number: \"))\n",
    "print(f\"a = {a} is \" + (\"positive\" if a>0 else \"negative\" if a<0 else \"zero\"))"
   ]
  },
  {
   "cell_type": "markdown",
   "metadata": {},
   "source": [
    "### 4"
   ]
  },
  {
   "cell_type": "code",
   "execution_count": 23,
   "metadata": {},
   "outputs": [
    {
     "ename": "SyntaxError",
     "evalue": "invalid syntax (<ipython-input-23-b83dcf23ad5d>, line 9)",
     "output_type": "error",
     "traceback": [
      "\u001b[0;36m  File \u001b[0;32m\"<ipython-input-23-b83dcf23ad5d>\"\u001b[0;36m, line \u001b[0;32m9\u001b[0m\n\u001b[0;31m    if posit = str:\u001b[0m\n\u001b[0m             ^\u001b[0m\n\u001b[0;31mSyntaxError\u001b[0m\u001b[0;31m:\u001b[0m invalid syntax\n"
     ]
    }
   ],
   "source": [
    "posint = input(\"Your favorite positive integer: \")\n",
    "\n",
    "dec = posint.count(\".\")\n",
    "um = posint.replace(\"\")\n",
    "\n",
    "if dec > 1:\n",
    "    print(\"Not a number\")\n",
    "else \n",
    "\n",
    "\n",
    "\n",
    "\n",
    "\n",
    "if posint%2==0:\n",
    "    print(even)\n",
    "else:\n",
    "    print(odd)"
   ]
  },
  {
   "cell_type": "markdown",
   "metadata": {},
   "source": [
    "### 5"
   ]
  },
  {
   "cell_type": "code",
   "execution_count": 12,
   "metadata": {},
   "outputs": [
    {
     "name": "stdout",
     "output_type": "stream",
     "text": [
      "Enter a score: 101\n",
      "A\n"
     ]
    }
   ],
   "source": [
    "grade = float(input(\"Enter a score: \"))\n",
    "\n",
    "if 90 < grade:\n",
    "    print(\"A\")\n",
    "elif 80 < grade <= 90:\n",
    "    print(\"B\")\n",
    "elif 70 < grade <= 80:\n",
    "    print(\"C\")\n",
    "elif 60 < grade <= 70:\n",
    "    print(\"D\")\n",
    "else:\n",
    "    print(\"F\")"
   ]
  },
  {
   "cell_type": "markdown",
   "metadata": {},
   "source": [
    "### 6"
   ]
  },
  {
   "cell_type": "code",
   "execution_count": 29,
   "metadata": {},
   "outputs": [
    {
     "name": "stdout",
     "output_type": "stream",
     "text": [
      "Enter A's play: rock\n",
      "Enter B's play: paper\n",
      "B wins\n"
     ]
    }
   ],
   "source": [
    "a = input(\"Enter A's play: \")\n",
    "b = input(\"Enter B's play: \")\n",
    "\n",
    "if a == b:\n",
    "    print(\"draw\")\n",
    "elif (a == \"rock\" and b == \"paper\") or (a == \"paper\" and b == \"scissors\") or (a == \"scissors\" and b == \"rock\"):\n",
    "    print(\"B wins\")\n",
    "else:\n",
    "    print(\"A wins\")"
   ]
  },
  {
   "cell_type": "markdown",
   "metadata": {},
   "source": [
    "### 7"
   ]
  },
  {
   "cell_type": "code",
   "execution_count": 14,
   "metadata": {},
   "outputs": [
    {
     "name": "stdout",
     "output_type": "stream",
     "text": [
      "Enter weight in pounds: 135\n",
      "Enter height in inches: 64\n",
      "Normal Weight\n"
     ]
    }
   ],
   "source": [
    "a = float(input(\"Enter weight in pounds: \"))\n",
    "b = float(input(\"Enter height in inches: \"))\n",
    "\n",
    "bmi = (a * 703) / (b) ** 2\n",
    "\n",
    "if bmi < 18.5:\n",
    "    print(\"Underweight\")\n",
    "elif 18.5 <= bmi < 24.9:\n",
    "    print(\"Normal Weight\")\n",
    "elif 25 <= bmi < 29.9:\n",
    "    print(\"Overweight\")\n",
    "elif bmi >= 30:\n",
    "    print(\"Obese\")"
   ]
  },
  {
   "cell_type": "markdown",
   "metadata": {},
   "source": [
    "### 8"
   ]
  },
  {
   "cell_type": "code",
   "execution_count": 21,
   "metadata": {},
   "outputs": [
    {
     "name": "stdout",
     "output_type": "stream",
     "text": [
      "Enter a year: 2020\n",
      "leap year\n"
     ]
    }
   ],
   "source": [
    "year = int(input(\"Enter a year: \"))\n",
    "\n",
    "if year%4==0:\n",
    "    print(\"leap year\")\n",
    "elif year%400==0:\n",
    "    print(\"leap year\")\n",
    "else: \n",
    "    print(\"not a leap year\")"
   ]
  },
  {
   "cell_type": "markdown",
   "metadata": {},
   "source": [
    "### 9"
   ]
  },
  {
   "cell_type": "code",
   "execution_count": null,
   "metadata": {},
   "outputs": [],
   "source": [
    "day = (input(\"Enter a day: \")\n",
    "month = (input(\"Enter a month: \")\n",
    "year = (input(\"Enter a year: \")\n",
    "\n",
    "if month == \"April\" or month == \"July\":\n",
    "    monthcode = 0\n",
    "elif month == \"January\" or month == \"October\":\n",
    "    monthcode = 1\n",
    "elif month == \"May\":\n",
    "    monthcode = 2\n",
    "elif month == \"August\":\n",
    "    monthcode = 3\n",
    "elif month == \"February\" or month == \"March\" or month == \"November\":\n",
    "    monthcode = 4\n",
    "elif month == \"June\":\n",
    "    monthcode = 5\n",
    "elif month == \"September\" or month == \"December\":\n",
    "    monthcode = 6\n",
    "\n",
    "if year%4==0:\n",
    "        print(\"leap year\")\n",
    "if year%400 == 0:\n",
    "        \n",
    "        "
   ]
  },
  {
   "cell_type": "markdown",
   "metadata": {},
   "source": [
    "### 10"
   ]
  },
  {
   "cell_type": "code",
   "execution_count": 31,
   "metadata": {},
   "outputs": [
    {
     "name": "stdout",
     "output_type": "stream",
     "text": [
      "Player's score? 79\n",
      "Opponent's score? 42\n",
      "Turn total? 21\n",
      "hold\n"
     ]
    }
   ],
   "source": [
    "i = int(input(\"Player's score? \"))\n",
    "j = int(input(\"Opponent's score? \"))\n",
    "k = int(input(\"Turn total? \"))\n",
    "\n",
    "if i + k >= 100:\n",
    "    print(\"hold\")\n",
    "elif (i >= 71) or (j >= 71):\n",
    "    print(\"roll\")\n",
    "elif k < 21 + round (( j - i ) / 8):\n",
    "    print(\"roll\")"
   ]
  },
  {
   "cell_type": "code",
   "execution_count": null,
   "metadata": {},
   "outputs": [],
   "source": []
  }
 ],
 "metadata": {
  "kernelspec": {
   "display_name": "Python 3",
   "language": "python",
   "name": "python3"
  },
  "language_info": {
   "codemirror_mode": {
    "name": "ipython",
    "version": 3
   },
   "file_extension": ".py",
   "mimetype": "text/x-python",
   "name": "python",
   "nbconvert_exporter": "python",
   "pygments_lexer": "ipython3",
   "version": "3.7.7"
  }
 },
 "nbformat": 4,
 "nbformat_minor": 4
}
