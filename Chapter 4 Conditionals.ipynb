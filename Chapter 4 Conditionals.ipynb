{
 "cells": [
  {
   "cell_type": "markdown",
   "metadata": {},
   "source": [
    "in-class exercise"
   ]
  },
  {
   "cell_type": "code",
   "execution_count": null,
   "metadata": {},
   "outputs": [],
   "source": [
    "#take an input of two integers, a and b\n",
    "\n",
    "a=int(input(\"a? \"))\n",
    "b=int(input(\"b? \"))\n",
    "\n",
    "# then print \"they are equal\",\"a > b\",\"b > a\"\n",
    "if a==b:\n",
    "    print(\"they are equal\")\n",
    "elif a>b:\n",
    "    print(\"a > b\")\n",
    "else:\n",
    "    print(\"b > a\")\n"
   ]
  },
  {
   "cell_type": "code",
   "execution_count": null,
   "metadata": {},
   "outputs": [],
   "source": [
    "#take an input of two integers, a and b\n",
    "\n",
    "a=float(input(\"a? \"))\n",
    "b=float(input(\"b? \"))\n",
    "\n",
    "# if a or b is not an integer, print \"invalid input\". otherwise, continue\n",
    "\n",
    "if int(a) != a or int(b) !=b:\n",
    "    print(\"invalid input\")\n",
    "\n",
    "\n",
    "# then print \"they are equal\",\"a > b\",\"b > a\"\n",
    "if a==b:\n",
    "    print(\"they are equal\")\n",
    "elif a>b:\n",
    "    print(\"a > b\")\n",
    "else:\n",
    "    print(\"b > a\")\n",
    "    \n",
    "    \n",
    "    "
   ]
  },
  {
   "cell_type": "markdown",
   "metadata": {},
   "source": [
    "### Exercises"
   ]
  },
  {
   "cell_type": "markdown",
   "metadata": {},
   "source": [
    "### 1"
   ]
  },
  {
   "cell_type": "code",
   "execution_count": null,
   "metadata": {},
   "outputs": [],
   "source": [
    "if \"ab\" in \"abcd\":\n",
    "  print(\"foo\")\n",
    "else:\n",
    "  print(\"bar\")\n",
    "\n",
    "if\""
   ]
  },
  {
   "cell_type": "markdown",
   "metadata": {},
   "source": [
    "### 2"
   ]
  },
  {
   "cell_type": "code",
   "execution_count": 5,
   "metadata": {},
   "outputs": [
    {
     "name": "stdout",
     "output_type": "stream",
     "text": [
      "feet: 5\n",
      "Inches: 4\n",
      "You are too tall\n"
     ]
    }
   ],
   "source": [
    "\n",
    "feet = float(input(\"feet: \"))\n",
    "if int(feet) != feet:\n",
    "    Print (\"invalid input\")\n",
    "\n",
    "inches = float(input(\"Inches: \"))\n",
    "if int(inches) != inches:\n",
    "    Print (\"invalid input\")\n",
    "\n",
    "height = feet * 12 + inches\n",
    "\n",
    "if height>=60:\n",
    "    print(\"You are too tall\")\n",
    "elif height <= 45:\n",
    "    print(\"You are too short :(\")\n",
    "else:\n",
    "    print(\"You can ride :)\")"
   ]
  },
  {
   "cell_type": "markdown",
   "metadata": {},
   "source": [
    "### 3"
   ]
  },
  {
   "cell_type": "code",
   "execution_count": 2,
   "metadata": {},
   "outputs": [
    {
     "name": "stdout",
     "output_type": "stream",
     "text": [
      "enter a number: -7\n",
      "a = -7.0 is negative\n"
     ]
    }
   ],
   "source": [
    "a = float(input(\"enter a number: \"))\n",
    "print(f\"a = {a} is \" + (\"positive\" if a>0 else \"negative\" if a<0 else \"zero\"))"
   ]
  },
  {
   "cell_type": "markdown",
   "metadata": {},
   "source": [
    "### 4"
   ]
  },
  {
   "cell_type": "code",
   "execution_count": null,
   "metadata": {},
   "outputs": [],
   "source": [
    "posint = input(\"Your favorite positive integer: \")\n",
    "dec = a.count(\".\")\n",
    "\n",
    "\n",
    "if posit = str:\n",
    "    print(not a number)\n",
    "elif "
   ]
  },
  {
   "cell_type": "markdown",
   "metadata": {},
   "source": [
    "### 5"
   ]
  },
  {
   "cell_type": "code",
   "execution_count": 1,
   "metadata": {},
   "outputs": [
    {
     "name": "stdout",
     "output_type": "stream",
     "text": [
      "Enter a score: 81\n",
      "B\n"
     ]
    }
   ],
   "source": [
    "grade = float(input(\"Enter a score: \"))\n",
    "\n",
    "if 90<grade<= 100 :\n",
    "    print(\"A\")\n",
    "elif 80<grade<=90 :\n",
    "    print(\"B\")\n",
    "elif 70<grade<=80 :\n",
    "    print(\"C\")\n",
    "elif 60<grade<=70 :\n",
    "    print(\"D\")\n",
    "elif 0<grade<=60 :\n",
    "    print(\"F\")"
   ]
  },
  {
   "cell_type": "markdown",
   "metadata": {},
   "source": [
    "### 6"
   ]
  },
  {
   "cell_type": "code",
   "execution_count": null,
   "metadata": {},
   "outputs": [],
   "source": [
    "A = print(\"Enter A's play: \")\n",
    "B = print(\"Enter B's play: \")\n"
   ]
  },
  {
   "cell_type": "markdown",
   "metadata": {},
   "source": [
    "### 7"
   ]
  },
  {
   "cell_type": "code",
   "execution_count": null,
   "metadata": {},
   "outputs": [],
   "source": []
  }
 ],
 "metadata": {
  "kernelspec": {
   "display_name": "Python 3",
   "language": "python",
   "name": "python3"
  },
  "language_info": {
   "codemirror_mode": {
    "name": "ipython",
    "version": 3
   },
   "file_extension": ".py",
   "mimetype": "text/x-python",
   "name": "python",
   "nbconvert_exporter": "python",
   "pygments_lexer": "ipython3",
   "version": "3.7.7"
  }
 },
 "nbformat": 4,
 "nbformat_minor": 4
}
