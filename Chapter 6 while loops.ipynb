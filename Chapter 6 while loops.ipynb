{
 "cells": [
  {
   "cell_type": "markdown",
   "metadata": {},
   "source": [
    "### 1"
   ]
  },
  {
   "cell_type": "code",
   "execution_count": 19,
   "metadata": {},
   "outputs": [
    {
     "name": "stdout",
     "output_type": "stream",
     "text": [
      "Roll:2\n",
      "Roll:5\n",
      "Roll:5\n",
      "Roll:2\n",
      "Roll:3\n",
      "Roll:5\n",
      "Turn Total:22\n"
     ]
    }
   ],
   "source": [
    "import random\n",
    "random.seed(3)\n",
    "\n",
    "roll = 0\n",
    "turntotal = 0\n",
    "\n",
    "while turntotal < 20 and roll != 1:\n",
    "    roll = random.randint(1, 6)\n",
    "    print(f\"Roll:{roll}\") \n",
    "    if roll == 1:\n",
    "        turntotal = 0\n",
    "    else:\n",
    "        turntotal += roll  \n",
    "print(f\"Turn Total:{turntotal}\")"
   ]
  },
  {
   "cell_type": "markdown",
   "metadata": {},
   "source": [
    "### 2"
   ]
  },
  {
   "cell_type": "code",
   "execution_count": null,
   "metadata": {},
   "outputs": [],
   "source": [
    "import random\n",
    "random.seed(3)\n",
    "\n",
    "roll = 0\n",
    "turntotal = 0\n",
    "score = int(input(\"Score? \"))\n",
    "\n",
    "while turntotal < 20 or roll != 1 and (score + turntotal < 100):\n",
    "    roll = random.randint(1, 6)\n",
    "    print(f\"Roll:{roll}\") \n",
    "    if roll == 1:\n",
    "        turntotal = 0\n",
    "    else:\n",
    "        turntotal += roll  \n",
    "print(f\"Turn Total:{turntotal}\")\n",
    "print(f\"New score: {score + turntotal}\")"
   ]
  },
  {
   "cell_type": "markdown",
   "metadata": {},
   "source": [
    "### 7"
   ]
  },
  {
   "cell_type": "code",
   "execution_count": 1,
   "metadata": {},
   "outputs": [
    {
     "name": "stdout",
     "output_type": "stream",
     "text": [
      "Positive integer a: 504\n",
      "Positive integer b:2226\n",
      "The greatest common divisor of a and b:42\n"
     ]
    }
   ],
   "source": [
    "a = int(input(\"Positive integer a: \"))\n",
    "b = int(input(\"Positive integer b:\"))\n",
    "\n",
    "while b != 0:\n",
    "    a_prime = b\n",
    "    b_prime = a % b\n",
    "    a = a_prime\n",
    "    b = b_prime\n",
    "    \n",
    "print(f\"The greatest common divisor of a and b:{a}\")"
   ]
  },
  {
   "cell_type": "markdown",
   "metadata": {},
   "source": [
    "### 8"
   ]
  },
  {
   "cell_type": "code",
   "execution_count": 5,
   "metadata": {},
   "outputs": [
    {
     "name": "stdout",
     "output_type": "stream",
     "text": [
      "Enter an integer: 4\n",
      "4\n"
     ]
    }
   ],
   "source": [
    "i = int(input(\"Enter an integer: \"))\n",
    "\n",
    "first = True\n",
    "while first or i < 3:\n",
    "    first = False\n",
    "    print(i)\n",
    "    i += 1"
   ]
  },
  {
   "cell_type": "markdown",
   "metadata": {},
   "source": [
    "### 9"
   ]
  },
  {
   "cell_type": "code",
   "execution_count": 8,
   "metadata": {},
   "outputs": [
    {
     "name": "stdout",
     "output_type": "stream",
     "text": [
      "Enter a positive integer: 12345\n",
      "reversed: 54321\n"
     ]
    }
   ],
   "source": [
    "i = int(input(\"Enter a positive integer: \"))\n",
    "\n",
    "reversed_i = 0\n",
    "while i != 0:\n",
    "    reversed_i = reversed_i * 10 + (i % 10)\n",
    "    i//=10\n",
    "\n",
    "print(f\"reversed:\", reversed_i)"
   ]
  },
  {
   "cell_type": "markdown",
   "metadata": {},
   "source": [
    "### 10"
   ]
  },
  {
   "cell_type": "code",
   "execution_count": null,
   "metadata": {},
   "outputs": [],
   "source": [
    "import random\n",
    "random.seed(0)\n",
    "\n",
    "i = int(input(\"Guess?\"))\n",
    "while i != "
   ]
  },
  {
   "cell_type": "markdown",
   "metadata": {},
   "source": [
    "### 11"
   ]
  },
  {
   "cell_type": "code",
   "execution_count": null,
   "metadata": {},
   "outputs": [],
   "source": [
    "import random\n",
    "random.seed(0)\n",
    "\n",
    "a = random.randint(0,99)\n",
    "b = random.randint(0,99)\n",
    "\n",
    "answer = int(input(f\"{a} + {b} = \"))\n",
    "\n",
    "while answer != a + b:\n",
    "    print(\"Wrong. Try again: {a} + {b} = \")\n",
    "print(\"Correct\")"
   ]
  },
  {
   "cell_type": "code",
   "execution_count": null,
   "metadata": {},
   "outputs": [],
   "source": []
  }
 ],
 "metadata": {
  "kernelspec": {
   "display_name": "Python 3",
   "language": "python",
   "name": "python3"
  },
  "language_info": {
   "codemirror_mode": {
    "name": "ipython",
    "version": 3
   },
   "file_extension": ".py",
   "mimetype": "text/x-python",
   "name": "python",
   "nbconvert_exporter": "python",
   "pygments_lexer": "ipython3",
   "version": "3.7.7"
  }
 },
 "nbformat": 4,
 "nbformat_minor": 4
}
