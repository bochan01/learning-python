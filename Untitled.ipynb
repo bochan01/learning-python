{
 "cells": [
  {
   "cell_type": "markdown",
   "metadata": {},
   "source": [
    "# introduction"
   ]
  },
  {
   "cell_type": "code",
   "execution_count": 1,
   "metadata": {},
   "outputs": [
    {
     "name": "stdout",
     "output_type": "stream",
     "text": [
      "Hello, World!\n"
     ]
    }
   ],
   "source": [
    "print(\"Hello, World!\")"
   ]
  },
  {
   "cell_type": "code",
   "execution_count": 5,
   "metadata": {},
   "outputs": [
    {
     "name": "stdout",
     "output_type": "stream",
     "text": [
      "I am bad at this\n",
      "It kind of stresses me out\n",
      "This is a haiku\n"
     ]
    }
   ],
   "source": [
    "print(\"I am bad at this\")\n",
    "print(\"It kind of stresses me out\")\n",
    "print(\"This is a haiku\")#im confused"
   ]
  },
  {
   "cell_type": "markdown",
   "metadata": {},
   "source": [
    "*emphasis*\n",
    "**strong emphasis**\n",
    "**_combined emphasis_**\n",
    "~~strikethrough~~\n",
    "*~~emphasis strikethrough~~* "
   ]
  }
 ],
 "metadata": {
  "kernelspec": {
   "display_name": "Python 3",
   "language": "python",
   "name": "python3"
  },
  "language_info": {
   "codemirror_mode": {
    "name": "ipython",
    "version": 3
   },
   "file_extension": ".py",
   "mimetype": "text/x-python",
   "name": "python",
   "nbconvert_exporter": "python",
   "pygments_lexer": "ipython3",
   "version": "3.7.7"
  }
 },
 "nbformat": 4,
 "nbformat_minor": 4
}
