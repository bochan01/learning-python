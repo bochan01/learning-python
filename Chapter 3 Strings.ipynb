{
 "cells": [
  {
   "cell_type": "markdown",
   "metadata": {},
   "source": [
    "### 1"
   ]
  },
  {
   "cell_type": "code",
   "execution_count": 3,
   "metadata": {},
   "outputs": [
    {
     "name": "stdout",
     "output_type": "stream",
     "text": [
      "Anna Bochenek\n",
      "2022\n",
      "Newtown\n",
      "To see if i can do it\n"
     ]
    }
   ],
   "source": [
    "print(\"Anna Bochenek\")\n",
    "print(\"2022\")\n",
    "print(\"Newtown\")\n",
    "print(\"To see if i can do it\")"
   ]
  },
  {
   "cell_type": "markdown",
   "metadata": {},
   "source": [
    "### 2"
   ]
  },
  {
   "cell_type": "code",
   "execution_count": 8,
   "metadata": {},
   "outputs": [
    {
     "name": "stdout",
     "output_type": "stream",
     "text": [
      "This is how you print a double-quote\n"
     ]
    }
   ],
   "source": [
    "print(\"This is how you print a double-quote\")"
   ]
  },
  {
   "cell_type": "code",
   "execution_count": 22,
   "metadata": {},
   "outputs": [
    {
     "name": "stdout",
     "output_type": "stream",
     "text": [
      "This is how you print a double-quote (\"), a backslash (\\), and a lowercase o with stroke (ø).\n",
      "\n",
      "A tab and a newline are printed using a \"\\t\" and \"\\n\", respectively.\n"
     ]
    }
   ],
   "source": [
    "print(\"\"\"This is how you print a double-quote (\"), a backslash (\\), and a lowercase o with stroke (ø).\n",
    "\n",
    "A tab and a newline are printed using a \\\"\\\\t\" and \\\"\\\\n\", respectively.\"\"\")"
   ]
  },
  {
   "cell_type": "markdown",
   "metadata": {},
   "source": [
    "### 3"
   ]
  },
  {
   "cell_type": "code",
   "execution_count": 53,
   "metadata": {},
   "outputs": [
    {
     "name": "stdout",
     "output_type": "stream",
     "text": [
      "super-duper-duper-duper-duper-duper-duper-duper-duper-duper-duper-fun\n"
     ]
    },
    {
     "data": {
      "text/plain": [
       "'r'"
      ]
     },
     "execution_count": 53,
     "metadata": {},
     "output_type": "execute_result"
    }
   ],
   "source": [
    "a=\"super-\"\n",
    "b=\"duper-\"\n",
    "c=\"fun\"\n",
    "print(a+(b*10)+c)\n",
    "\n",
    "d=(a+(b*10)+c)[34]\n",
    "d"
   ]
  },
  {
   "cell_type": "code",
   "execution_count": 54,
   "metadata": {},
   "outputs": [
    {
     "data": {
      "text/plain": [
       "'r'"
      ]
     },
     "execution_count": 54,
     "metadata": {},
     "output_type": "execute_result"
    }
   ],
   "source": [
    "e=(a+(b*10)+c)[-35]\n",
    "e"
   ]
  },
  {
   "cell_type": "markdown",
   "metadata": {},
   "source": [
    "### 4"
   ]
  },
  {
   "cell_type": "code",
   "execution_count": 76,
   "metadata": {},
   "outputs": [
    {
     "name": "stdout",
     "output_type": "stream",
     "text": [
      "22\n",
      "23\n"
     ]
    }
   ],
   "source": [
    "a=\"Hello, my name is Anna\"\n",
    "c=len(a)\n",
    "print(c)\n",
    "\n",
    "b=\"Hello, \\nmy name is Anna\"\n",
    "len(b)\n",
    "print(len(b))"
   ]
  },
  {
   "cell_type": "markdown",
   "metadata": {},
   "source": [
    "### 5"
   ]
  },
  {
   "cell_type": "code",
   "execution_count": 92,
   "metadata": {},
   "outputs": [
    {
     "name": "stdout",
     "output_type": "stream",
     "text": [
      "bdfhjln\n",
      "hfd\n",
      "yvspmj\n",
      "xr\n"
     ]
    }
   ],
   "source": [
    "a=\"abcdefghijklmnopqrstuvwxyz\"[1:14:2]\n",
    "print(a)\n",
    "\n",
    "b=\"abcdefghijklmnopqrstuvwxyz\"[7:2:-2]\n",
    "print(b)\n",
    "\n",
    "c=\"abcdefghijklmnopqrstuvwxyz\"[24:8:-3]\n",
    "print(c)\n",
    "\n",
    "d=\"abcdefghijklmnopqrstuvwxyz\"[23:16:-6]\n",
    "print(d)"
   ]
  },
  {
   "cell_type": "markdown",
   "metadata": {},
   "source": [
    "### 6"
   ]
  },
  {
   "cell_type": "code",
   "execution_count": 126,
   "metadata": {},
   "outputs": [
    {
     "name": "stdout",
     "output_type": "stream",
     "text": [
      "Poop\n",
      "        poop        \n",
      "2\n",
      "False\n",
      "1\n",
      "0\n",
      "True\n",
      "POOP\n"
     ]
    }
   ],
   "source": [
    "txt=\"poop\"\n",
    "a=txt.capitalize()\n",
    "print(a)\n",
    "\n",
    "b=txt.center(20)\n",
    "print(b)\n",
    "\n",
    "c=(\"poop is unclean. but we all poop. be humbled.\").count(\"poop\")\n",
    "print(c)\n",
    "\n",
    "d=txt.endswith(\".\")\n",
    "print(d)\n",
    "\n",
    "e=txt.find(\"o\")\n",
    "print(e)\n",
    "\n",
    "f=txt.index(\"poop\")\n",
    "print(f)\n",
    "\n",
    "g=txt.isalnum()\n",
    "print(g)\n",
    "\n",
    "h=txt.upper()\n",
    "print(h)"
   ]
  }
 ],
 "metadata": {
  "kernelspec": {
   "display_name": "Python 3",
   "language": "python",
   "name": "python3"
  },
  "language_info": {
   "codemirror_mode": {
    "name": "ipython",
    "version": 3
   },
   "file_extension": ".py",
   "mimetype": "text/x-python",
   "name": "python",
   "nbconvert_exporter": "python",
   "pygments_lexer": "ipython3",
   "version": "3.7.7"
  }
 },
 "nbformat": 4,
 "nbformat_minor": 4
}
